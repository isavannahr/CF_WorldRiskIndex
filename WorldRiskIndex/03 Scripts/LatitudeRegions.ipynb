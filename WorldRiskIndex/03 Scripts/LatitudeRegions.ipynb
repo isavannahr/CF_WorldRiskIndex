{
 "cells": [
  {
   "cell_type": "markdown",
   "id": "1b0267f9-9fb4-4329-af5a-44f9d54c3e15",
   "metadata": {},
   "source": [
    "# 01. Importing Libraries"
   ]
  },
  {
   "cell_type": "code",
   "execution_count": 79,
   "id": "ed8cd01e-1c19-4d81-bc7d-7c96d4000f0f",
   "metadata": {},
   "outputs": [
    {
     "name": "stdout",
     "output_type": "stream",
     "text": [
      "Requirement already satisfied: geopandas in c:\\users\\isava\\appdata\\roaming\\python\\python312\\site-packages (1.0.1)\n",
      "Requirement already satisfied: numpy>=1.22 in c:\\users\\isava\\anaconda3\\lib\\site-packages (from geopandas) (1.26.4)\n",
      "Requirement already satisfied: pyogrio>=0.7.2 in c:\\users\\isava\\appdata\\roaming\\python\\python312\\site-packages (from geopandas) (0.10.0)\n",
      "Requirement already satisfied: packaging in c:\\users\\isava\\anaconda3\\lib\\site-packages (from geopandas) (23.2)\n",
      "Requirement already satisfied: pandas>=1.4.0 in c:\\users\\isava\\anaconda3\\lib\\site-packages (from geopandas) (2.2.2)\n",
      "Requirement already satisfied: pyproj>=3.3.0 in c:\\users\\isava\\appdata\\roaming\\python\\python312\\site-packages (from geopandas) (3.7.1)\n",
      "Requirement already satisfied: shapely>=2.0.0 in c:\\users\\isava\\appdata\\roaming\\python\\python312\\site-packages (from geopandas) (2.0.7)\n",
      "Requirement already satisfied: python-dateutil>=2.8.2 in c:\\users\\isava\\anaconda3\\lib\\site-packages (from pandas>=1.4.0->geopandas) (2.9.0.post0)\n",
      "Requirement already satisfied: pytz>=2020.1 in c:\\users\\isava\\anaconda3\\lib\\site-packages (from pandas>=1.4.0->geopandas) (2024.1)\n",
      "Requirement already satisfied: tzdata>=2022.7 in c:\\users\\isava\\anaconda3\\lib\\site-packages (from pandas>=1.4.0->geopandas) (2023.3)\n",
      "Requirement already satisfied: certifi in c:\\users\\isava\\anaconda3\\lib\\site-packages (from pyogrio>=0.7.2->geopandas) (2024.12.14)\n",
      "Requirement already satisfied: six>=1.5 in c:\\users\\isava\\anaconda3\\lib\\site-packages (from python-dateutil>=2.8.2->pandas>=1.4.0->geopandas) (1.16.0)\n",
      "Requirement already satisfied: geodatasets in c:\\users\\isava\\appdata\\roaming\\python\\python312\\site-packages (2024.8.0)\n",
      "Requirement already satisfied: pooch in c:\\users\\isava\\appdata\\roaming\\python\\python312\\site-packages (from geodatasets) (1.8.2)\n",
      "Requirement already satisfied: platformdirs>=2.5.0 in c:\\users\\isava\\anaconda3\\lib\\site-packages (from pooch->geodatasets) (3.10.0)\n",
      "Requirement already satisfied: packaging>=20.0 in c:\\users\\isava\\anaconda3\\lib\\site-packages (from pooch->geodatasets) (23.2)\n",
      "Requirement already satisfied: requests>=2.19.0 in c:\\users\\isava\\anaconda3\\lib\\site-packages (from pooch->geodatasets) (2.32.2)\n",
      "Requirement already satisfied: charset-normalizer<4,>=2 in c:\\users\\isava\\anaconda3\\lib\\site-packages (from requests>=2.19.0->pooch->geodatasets) (2.0.4)\n",
      "Requirement already satisfied: idna<4,>=2.5 in c:\\users\\isava\\anaconda3\\lib\\site-packages (from requests>=2.19.0->pooch->geodatasets) (3.7)\n",
      "Requirement already satisfied: urllib3<3,>=1.21.1 in c:\\users\\isava\\anaconda3\\lib\\site-packages (from requests>=2.19.0->pooch->geodatasets) (2.2.2)\n",
      "Requirement already satisfied: certifi>=2017.4.17 in c:\\users\\isava\\anaconda3\\lib\\site-packages (from requests>=2.19.0->pooch->geodatasets) (2024.12.14)\n",
      "Requirement already satisfied: geopy in c:\\users\\isava\\appdata\\roaming\\python\\python312\\site-packages (2.4.1)\n",
      "Requirement already satisfied: geographiclib<3,>=1.52 in c:\\users\\isava\\appdata\\roaming\\python\\python312\\site-packages (from geopy) (2.0)\n"
     ]
    }
   ],
   "source": [
    "import sys  \n",
    "!{sys.executable} -m pip install --user geopandas\n",
    "!{sys.executable} -m pip install --user geodatasets\n",
    "!{sys.executable} -m pip install --user geopy"
   ]
  },
  {
   "cell_type": "code",
   "execution_count": 81,
   "id": "7d348739-3753-497f-9445-27c96a9974ea",
   "metadata": {},
   "outputs": [],
   "source": [
    "import pandas as pd\n",
    "import numpy as np\n",
    "import os\n",
    "import geopandas as gpd\n",
    "import geodatasets\n",
    "from geopy.exc import GeocoderTimedOut \n",
    "from geopy.geocoders import Nominatim "
   ]
  },
  {
   "cell_type": "markdown",
   "id": "1fa5069c-3bd4-47b4-b92e-6bd5ee32880c",
   "metadata": {},
   "source": [
    "# 02 Import Data"
   ]
  },
  {
   "cell_type": "code",
   "execution_count": 103,
   "id": "fa382db3-b037-42ba-8a9d-4fdb8c5c0de8",
   "metadata": {},
   "outputs": [],
   "source": [
    "path = r'C:\\Users\\isava\\OneDrive\\Documents\\CareerFoundry\\Data Immersion\\AdvancedAnalytics\\WorldRiskIndex'"
   ]
  },
  {
   "cell_type": "code",
   "execution_count": 105,
   "id": "bfcb22d6-2290-471f-ad51-d38266e8fdf1",
   "metadata": {},
   "outputs": [],
   "source": [
    "df = pd.read_csv(os.path.join(path,'02 Data','CleanedData', 'world_risk_index_cleaned.csv'))"
   ]
  },
  {
   "cell_type": "code",
   "execution_count": 111,
   "id": "3f602918-a5c6-4e0d-9768-642f53f73cd8",
   "metadata": {},
   "outputs": [
    {
     "data": {
      "text/html": [
       "<div>\n",
       "<style scoped>\n",
       "    .dataframe tbody tr th:only-of-type {\n",
       "        vertical-align: middle;\n",
       "    }\n",
       "\n",
       "    .dataframe tbody tr th {\n",
       "        vertical-align: top;\n",
       "    }\n",
       "\n",
       "    .dataframe thead th {\n",
       "        text-align: right;\n",
       "    }\n",
       "</style>\n",
       "<table border=\"1\" class=\"dataframe\">\n",
       "  <thead>\n",
       "    <tr style=\"text-align: right;\">\n",
       "      <th></th>\n",
       "      <th>Region</th>\n",
       "      <th>WRI</th>\n",
       "      <th>Exposure</th>\n",
       "      <th>Vulnerability</th>\n",
       "      <th>Susceptibility</th>\n",
       "      <th>Lack of Coping Capabilities</th>\n",
       "      <th>Lack of Adaptive Capacities</th>\n",
       "      <th>Year</th>\n",
       "      <th>Exposure Category</th>\n",
       "      <th>WRI Category</th>\n",
       "      <th>Vulnerability Category</th>\n",
       "      <th>Susceptibility Category</th>\n",
       "    </tr>\n",
       "  </thead>\n",
       "  <tbody>\n",
       "    <tr>\n",
       "      <th>0</th>\n",
       "      <td>Vanuatu</td>\n",
       "      <td>32.00</td>\n",
       "      <td>56.33</td>\n",
       "      <td>56.81</td>\n",
       "      <td>37.14</td>\n",
       "      <td>79.34</td>\n",
       "      <td>53.96</td>\n",
       "      <td>2011</td>\n",
       "      <td>Very High</td>\n",
       "      <td>Very High</td>\n",
       "      <td>High</td>\n",
       "      <td>High</td>\n",
       "    </tr>\n",
       "    <tr>\n",
       "      <th>1</th>\n",
       "      <td>Tonga</td>\n",
       "      <td>29.08</td>\n",
       "      <td>56.04</td>\n",
       "      <td>51.90</td>\n",
       "      <td>28.94</td>\n",
       "      <td>81.80</td>\n",
       "      <td>44.97</td>\n",
       "      <td>2011</td>\n",
       "      <td>Very High</td>\n",
       "      <td>Very High</td>\n",
       "      <td>Medium</td>\n",
       "      <td>Medium</td>\n",
       "    </tr>\n",
       "    <tr>\n",
       "      <th>2</th>\n",
       "      <td>Philippines</td>\n",
       "      <td>24.32</td>\n",
       "      <td>45.09</td>\n",
       "      <td>53.93</td>\n",
       "      <td>34.99</td>\n",
       "      <td>82.78</td>\n",
       "      <td>44.01</td>\n",
       "      <td>2011</td>\n",
       "      <td>Very High</td>\n",
       "      <td>Very High</td>\n",
       "      <td>High</td>\n",
       "      <td>High</td>\n",
       "    </tr>\n",
       "    <tr>\n",
       "      <th>3</th>\n",
       "      <td>Solomon Islands</td>\n",
       "      <td>23.51</td>\n",
       "      <td>36.40</td>\n",
       "      <td>64.60</td>\n",
       "      <td>44.11</td>\n",
       "      <td>85.95</td>\n",
       "      <td>63.74</td>\n",
       "      <td>2011</td>\n",
       "      <td>Very High</td>\n",
       "      <td>Very High</td>\n",
       "      <td>Very High</td>\n",
       "      <td>High</td>\n",
       "    </tr>\n",
       "    <tr>\n",
       "      <th>4</th>\n",
       "      <td>Guatemala</td>\n",
       "      <td>20.88</td>\n",
       "      <td>38.42</td>\n",
       "      <td>54.35</td>\n",
       "      <td>35.36</td>\n",
       "      <td>77.83</td>\n",
       "      <td>49.87</td>\n",
       "      <td>2011</td>\n",
       "      <td>Very High</td>\n",
       "      <td>Very High</td>\n",
       "      <td>High</td>\n",
       "      <td>High</td>\n",
       "    </tr>\n",
       "  </tbody>\n",
       "</table>\n",
       "</div>"
      ],
      "text/plain": [
       "            Region    WRI  Exposure  Vulnerability  Susceptibility  \\\n",
       "0          Vanuatu  32.00     56.33          56.81           37.14   \n",
       "1            Tonga  29.08     56.04          51.90           28.94   \n",
       "2      Philippines  24.32     45.09          53.93           34.99   \n",
       "3  Solomon Islands  23.51     36.40          64.60           44.11   \n",
       "4        Guatemala  20.88     38.42          54.35           35.36   \n",
       "\n",
       "   Lack of Coping Capabilities  Lack of Adaptive Capacities  Year  \\\n",
       "0                        79.34                        53.96  2011   \n",
       "1                        81.80                        44.97  2011   \n",
       "2                        82.78                        44.01  2011   \n",
       "3                        85.95                        63.74  2011   \n",
       "4                        77.83                        49.87  2011   \n",
       "\n",
       "  Exposure Category WRI Category Vulnerability Category  \\\n",
       "0         Very High    Very High                   High   \n",
       "1         Very High    Very High                 Medium   \n",
       "2         Very High    Very High                   High   \n",
       "3         Very High    Very High              Very High   \n",
       "4         Very High    Very High                   High   \n",
       "\n",
       "  Susceptibility Category  \n",
       "0                    High  \n",
       "1                  Medium  \n",
       "2                    High  \n",
       "3                    High  \n",
       "4                    High  "
      ]
     },
     "execution_count": 111,
     "metadata": {},
     "output_type": "execute_result"
    }
   ],
   "source": [
    "df.head()"
   ]
  },
  {
   "cell_type": "markdown",
   "id": "5d4090f8-9c77-418d-abc6-73ca120e7f0c",
   "metadata": {},
   "source": [
    "The followign data set was found from the following link: https://github.com/google/dspl/blob/master/samples/google/canonical/countries.csv"
   ]
  },
  {
   "cell_type": "code",
   "execution_count": 107,
   "id": "56190121-d9a5-4e62-af5f-1a37c884f435",
   "metadata": {},
   "outputs": [],
   "source": [
    "coord = pd.read_csv(os.path.join(path,'02 Data','CleanedData', 'countries_coordinates.csv'))"
   ]
  },
  {
   "cell_type": "code",
   "execution_count": 109,
   "id": "332b7c0c-14ec-435c-af72-499d40a86c54",
   "metadata": {},
   "outputs": [
    {
     "data": {
      "text/html": [
       "<div>\n",
       "<style scoped>\n",
       "    .dataframe tbody tr th:only-of-type {\n",
       "        vertical-align: middle;\n",
       "    }\n",
       "\n",
       "    .dataframe tbody tr th {\n",
       "        vertical-align: top;\n",
       "    }\n",
       "\n",
       "    .dataframe thead th {\n",
       "        text-align: right;\n",
       "    }\n",
       "</style>\n",
       "<table border=\"1\" class=\"dataframe\">\n",
       "  <thead>\n",
       "    <tr style=\"text-align: right;\">\n",
       "      <th></th>\n",
       "      <th>country</th>\n",
       "      <th>latitude</th>\n",
       "      <th>longitude</th>\n",
       "      <th>name</th>\n",
       "    </tr>\n",
       "  </thead>\n",
       "  <tbody>\n",
       "    <tr>\n",
       "      <th>0</th>\n",
       "      <td>AD</td>\n",
       "      <td>42.546245</td>\n",
       "      <td>1.601554</td>\n",
       "      <td>Andorra</td>\n",
       "    </tr>\n",
       "    <tr>\n",
       "      <th>1</th>\n",
       "      <td>AE</td>\n",
       "      <td>23.424076</td>\n",
       "      <td>53.847818</td>\n",
       "      <td>United Arab Emirates</td>\n",
       "    </tr>\n",
       "    <tr>\n",
       "      <th>2</th>\n",
       "      <td>AF</td>\n",
       "      <td>33.939110</td>\n",
       "      <td>67.709953</td>\n",
       "      <td>Afghanistan</td>\n",
       "    </tr>\n",
       "    <tr>\n",
       "      <th>3</th>\n",
       "      <td>AG</td>\n",
       "      <td>17.060816</td>\n",
       "      <td>-61.796428</td>\n",
       "      <td>Antigua and Barbuda</td>\n",
       "    </tr>\n",
       "    <tr>\n",
       "      <th>4</th>\n",
       "      <td>AI</td>\n",
       "      <td>18.220554</td>\n",
       "      <td>-63.068615</td>\n",
       "      <td>Anguilla</td>\n",
       "    </tr>\n",
       "  </tbody>\n",
       "</table>\n",
       "</div>"
      ],
      "text/plain": [
       "  country   latitude  longitude                  name\n",
       "0      AD  42.546245   1.601554               Andorra\n",
       "1      AE  23.424076  53.847818  United Arab Emirates\n",
       "2      AF  33.939110  67.709953           Afghanistan\n",
       "3      AG  17.060816 -61.796428   Antigua and Barbuda\n",
       "4      AI  18.220554 -63.068615              Anguilla"
      ]
     },
     "execution_count": 109,
     "metadata": {},
     "output_type": "execute_result"
    }
   ],
   "source": [
    "coord.head()"
   ]
  },
  {
   "cell_type": "markdown",
   "id": "84016378-e8c6-4239-8006-ff460b852a4b",
   "metadata": {},
   "source": [
    "# 03 Data Prep"
   ]
  },
  {
   "cell_type": "markdown",
   "id": "2a5cc579-fec3-4f9f-93de-9bed7d8d89df",
   "metadata": {},
   "source": [
    "My aim here is to add latitude regions based on country to the data set. I am hoping to get a general idea of WRI for the different latitude regions. My hypothesis is that equatorial regions score higher for both exposure and vulnerability scores."
   ]
  },
  {
   "cell_type": "code",
   "execution_count": 142,
   "id": "99865b30-923d-4b3d-ab5c-c24aa9b42ea4",
   "metadata": {},
   "outputs": [
    {
     "data": {
      "text/html": [
       "<div>\n",
       "<style scoped>\n",
       "    .dataframe tbody tr th:only-of-type {\n",
       "        vertical-align: middle;\n",
       "    }\n",
       "\n",
       "    .dataframe tbody tr th {\n",
       "        vertical-align: top;\n",
       "    }\n",
       "\n",
       "    .dataframe thead th {\n",
       "        text-align: right;\n",
       "    }\n",
       "</style>\n",
       "<table border=\"1\" class=\"dataframe\">\n",
       "  <thead>\n",
       "    <tr style=\"text-align: right;\">\n",
       "      <th></th>\n",
       "      <th>country</th>\n",
       "      <th>latitude</th>\n",
       "      <th>longitude</th>\n",
       "      <th>Region</th>\n",
       "    </tr>\n",
       "  </thead>\n",
       "  <tbody>\n",
       "    <tr>\n",
       "      <th>0</th>\n",
       "      <td>AD</td>\n",
       "      <td>42.546245</td>\n",
       "      <td>1.601554</td>\n",
       "      <td>Andorra</td>\n",
       "    </tr>\n",
       "    <tr>\n",
       "      <th>1</th>\n",
       "      <td>AE</td>\n",
       "      <td>23.424076</td>\n",
       "      <td>53.847818</td>\n",
       "      <td>United Arab Emirates</td>\n",
       "    </tr>\n",
       "    <tr>\n",
       "      <th>2</th>\n",
       "      <td>AF</td>\n",
       "      <td>33.939110</td>\n",
       "      <td>67.709953</td>\n",
       "      <td>Afghanistan</td>\n",
       "    </tr>\n",
       "    <tr>\n",
       "      <th>3</th>\n",
       "      <td>AG</td>\n",
       "      <td>17.060816</td>\n",
       "      <td>-61.796428</td>\n",
       "      <td>Antigua and Barbuda</td>\n",
       "    </tr>\n",
       "    <tr>\n",
       "      <th>4</th>\n",
       "      <td>AI</td>\n",
       "      <td>18.220554</td>\n",
       "      <td>-63.068615</td>\n",
       "      <td>Anguilla</td>\n",
       "    </tr>\n",
       "  </tbody>\n",
       "</table>\n",
       "</div>"
      ],
      "text/plain": [
       "  country   latitude  longitude                Region\n",
       "0      AD  42.546245   1.601554               Andorra\n",
       "1      AE  23.424076  53.847818  United Arab Emirates\n",
       "2      AF  33.939110  67.709953           Afghanistan\n",
       "3      AG  17.060816 -61.796428   Antigua and Barbuda\n",
       "4      AI  18.220554 -63.068615              Anguilla"
      ]
     },
     "execution_count": 142,
     "metadata": {},
     "output_type": "execute_result"
    }
   ],
   "source": [
    "coord.rename(columns={\"name\": \"Region\"}, inplace = True) #Rename to be able to perform merge.\n",
    "coord.head()"
   ]
  },
  {
   "cell_type": "code",
   "execution_count": 158,
   "id": "6c047f2b-3fbc-4739-bd11-23b602a1136d",
   "metadata": {},
   "outputs": [],
   "source": [
    "df_lat = pd.merge(df, coord, on='Region', how='left')"
   ]
  },
  {
   "cell_type": "code",
   "execution_count": 160,
   "id": "8dc4ee70-a639-4333-8d76-103e6cac7aee",
   "metadata": {},
   "outputs": [],
   "source": [
    "df_lat = df_lat.drop(columns=['country', 'longitude'], axis = 1)"
   ]
  },
  {
   "cell_type": "code",
   "execution_count": 162,
   "id": "5425fbbe-2b9b-4d65-9e2f-fb512608ee1b",
   "metadata": {
    "scrolled": true
   },
   "outputs": [
    {
     "data": {
      "text/html": [
       "<div>\n",
       "<style scoped>\n",
       "    .dataframe tbody tr th:only-of-type {\n",
       "        vertical-align: middle;\n",
       "    }\n",
       "\n",
       "    .dataframe tbody tr th {\n",
       "        vertical-align: top;\n",
       "    }\n",
       "\n",
       "    .dataframe thead th {\n",
       "        text-align: right;\n",
       "    }\n",
       "</style>\n",
       "<table border=\"1\" class=\"dataframe\">\n",
       "  <thead>\n",
       "    <tr style=\"text-align: right;\">\n",
       "      <th></th>\n",
       "      <th>Region</th>\n",
       "      <th>WRI</th>\n",
       "      <th>Exposure</th>\n",
       "      <th>Vulnerability</th>\n",
       "      <th>Susceptibility</th>\n",
       "      <th>Lack of Coping Capabilities</th>\n",
       "      <th>Lack of Adaptive Capacities</th>\n",
       "      <th>Year</th>\n",
       "      <th>Exposure Category</th>\n",
       "      <th>WRI Category</th>\n",
       "      <th>Vulnerability Category</th>\n",
       "      <th>Susceptibility Category</th>\n",
       "      <th>latitude</th>\n",
       "    </tr>\n",
       "  </thead>\n",
       "  <tbody>\n",
       "    <tr>\n",
       "      <th>0</th>\n",
       "      <td>Vanuatu</td>\n",
       "      <td>32.00</td>\n",
       "      <td>56.33</td>\n",
       "      <td>56.81</td>\n",
       "      <td>37.14</td>\n",
       "      <td>79.34</td>\n",
       "      <td>53.96</td>\n",
       "      <td>2011</td>\n",
       "      <td>Very High</td>\n",
       "      <td>Very High</td>\n",
       "      <td>High</td>\n",
       "      <td>High</td>\n",
       "      <td>-15.376706</td>\n",
       "    </tr>\n",
       "    <tr>\n",
       "      <th>1</th>\n",
       "      <td>Tonga</td>\n",
       "      <td>29.08</td>\n",
       "      <td>56.04</td>\n",
       "      <td>51.90</td>\n",
       "      <td>28.94</td>\n",
       "      <td>81.80</td>\n",
       "      <td>44.97</td>\n",
       "      <td>2011</td>\n",
       "      <td>Very High</td>\n",
       "      <td>Very High</td>\n",
       "      <td>Medium</td>\n",
       "      <td>Medium</td>\n",
       "      <td>-21.178986</td>\n",
       "    </tr>\n",
       "    <tr>\n",
       "      <th>2</th>\n",
       "      <td>Philippines</td>\n",
       "      <td>24.32</td>\n",
       "      <td>45.09</td>\n",
       "      <td>53.93</td>\n",
       "      <td>34.99</td>\n",
       "      <td>82.78</td>\n",
       "      <td>44.01</td>\n",
       "      <td>2011</td>\n",
       "      <td>Very High</td>\n",
       "      <td>Very High</td>\n",
       "      <td>High</td>\n",
       "      <td>High</td>\n",
       "      <td>12.879721</td>\n",
       "    </tr>\n",
       "    <tr>\n",
       "      <th>3</th>\n",
       "      <td>Solomon Islands</td>\n",
       "      <td>23.51</td>\n",
       "      <td>36.40</td>\n",
       "      <td>64.60</td>\n",
       "      <td>44.11</td>\n",
       "      <td>85.95</td>\n",
       "      <td>63.74</td>\n",
       "      <td>2011</td>\n",
       "      <td>Very High</td>\n",
       "      <td>Very High</td>\n",
       "      <td>Very High</td>\n",
       "      <td>High</td>\n",
       "      <td>-9.645710</td>\n",
       "    </tr>\n",
       "    <tr>\n",
       "      <th>4</th>\n",
       "      <td>Guatemala</td>\n",
       "      <td>20.88</td>\n",
       "      <td>38.42</td>\n",
       "      <td>54.35</td>\n",
       "      <td>35.36</td>\n",
       "      <td>77.83</td>\n",
       "      <td>49.87</td>\n",
       "      <td>2011</td>\n",
       "      <td>Very High</td>\n",
       "      <td>Very High</td>\n",
       "      <td>High</td>\n",
       "      <td>High</td>\n",
       "      <td>15.783471</td>\n",
       "    </tr>\n",
       "  </tbody>\n",
       "</table>\n",
       "</div>"
      ],
      "text/plain": [
       "            Region    WRI  Exposure  Vulnerability  Susceptibility  \\\n",
       "0          Vanuatu  32.00     56.33          56.81           37.14   \n",
       "1            Tonga  29.08     56.04          51.90           28.94   \n",
       "2      Philippines  24.32     45.09          53.93           34.99   \n",
       "3  Solomon Islands  23.51     36.40          64.60           44.11   \n",
       "4        Guatemala  20.88     38.42          54.35           35.36   \n",
       "\n",
       "   Lack of Coping Capabilities  Lack of Adaptive Capacities  Year  \\\n",
       "0                        79.34                        53.96  2011   \n",
       "1                        81.80                        44.97  2011   \n",
       "2                        82.78                        44.01  2011   \n",
       "3                        85.95                        63.74  2011   \n",
       "4                        77.83                        49.87  2011   \n",
       "\n",
       "  Exposure Category WRI Category Vulnerability Category  \\\n",
       "0         Very High    Very High                   High   \n",
       "1         Very High    Very High                 Medium   \n",
       "2         Very High    Very High                   High   \n",
       "3         Very High    Very High              Very High   \n",
       "4         Very High    Very High                   High   \n",
       "\n",
       "  Susceptibility Category   latitude  \n",
       "0                    High -15.376706  \n",
       "1                  Medium -21.178986  \n",
       "2                    High  12.879721  \n",
       "3                    High  -9.645710  \n",
       "4                    High  15.783471  "
      ]
     },
     "execution_count": 162,
     "metadata": {},
     "output_type": "execute_result"
    }
   ],
   "source": [
    "df_lat.head()"
   ]
  },
  {
   "cell_type": "markdown",
   "id": "056db835-e46f-420a-b28a-cadb0009d926",
   "metadata": {},
   "source": [
    "#### Missing Values\n",
    "\n",
    "I am assuming that there are missing values due to name mismatches. I will go through them now and potentially manually update or rename my regions to match. "
   ]
  },
  {
   "cell_type": "code",
   "execution_count": 166,
   "id": "f8a375df-f273-44d6-8cd4-d96504e3a0ae",
   "metadata": {},
   "outputs": [
    {
     "data": {
      "text/plain": [
       "Region                          0\n",
       "WRI                             0\n",
       "Exposure                        0\n",
       "Vulnerability                   0\n",
       "Susceptibility                  0\n",
       "Lack of Coping Capabilities     0\n",
       "Lack of Adaptive Capacities     0\n",
       "Year                            0\n",
       "Exposure Category               0\n",
       "WRI Category                    0\n",
       "Vulnerability Category          0\n",
       "Susceptibility Category         0\n",
       "latitude                       86\n",
       "dtype: int64"
      ]
     },
     "execution_count": 166,
     "metadata": {},
     "output_type": "execute_result"
    }
   ],
   "source": [
    "df_lat.isnull().sum()"
   ]
  },
  {
   "cell_type": "markdown",
   "id": "47d8dcba-d102-424b-b4a5-f22a790a8091",
   "metadata": {},
   "source": [
    "86 missing values, which will be manually added. "
   ]
  },
  {
   "cell_type": "code",
   "execution_count": 174,
   "id": "c0590070-e63c-4a94-adf3-cf25be8b09bc",
   "metadata": {},
   "outputs": [
    {
     "data": {
      "text/plain": [
       "array(['East Timor', 'Cabo Verde', 'Ivory Coast', 'Myanmar', 'Congo',\n",
       "       'Eswatini', 'North Macedonia', 'Sao Tome and Principe',\n",
       "       'Democratic Republic of the Congo'], dtype=object)"
      ]
     },
     "execution_count": 174,
     "metadata": {},
     "output_type": "execute_result"
    }
   ],
   "source": [
    "df_lat[df_lat['latitude'].isnull()]['Region'].unique()"
   ]
  },
  {
   "cell_type": "code",
   "execution_count": 198,
   "id": "f3d26360-e66a-4b34-9a4d-001c31f1a5ac",
   "metadata": {},
   "outputs": [],
   "source": [
    "df_lat.loc[df_lat['Region'] == 'East Timor','latitude'] = -8.7947\n",
    "df_lat.loc[df_lat['Region'] == 'Cabo Verde','latitude'] = 16.002082\n",
    "df_lat.loc[df_lat['Region'] == 'Ivory Coast','latitude'] = 7.539989\n",
    "df_lat.loc[df_lat['Region'] == 'Myanmar','latitude'] = 21.913965\n",
    "df_lat.loc[df_lat['Region'] == 'Congo','latitude'] = -0.228021\n",
    "df_lat.loc[df_lat['Region'] == 'Democratic Republic of the Congo','latitude'] = -4.03833\n",
    "df_lat.loc[df_lat['Region'] == 'Eswatini','latitude'] = -26.522503\n",
    "df_lat.loc[df_lat['Region'] == 'North Macedonia','latitude'] = 41.608635\n",
    "df_lat.loc[df_lat['Region'] == 'Sao Tome and Principe','latitude'] = 0.18636"
   ]
  },
  {
   "cell_type": "code",
   "execution_count": 200,
   "id": "c6e2740d-3bb3-4785-930d-38418ccb338c",
   "metadata": {
    "scrolled": true
   },
   "outputs": [
    {
     "data": {
      "text/plain": [
       "array([], dtype=object)"
      ]
     },
     "execution_count": 200,
     "metadata": {},
     "output_type": "execute_result"
    }
   ],
   "source": [
    "df_lat[df_lat['latitude'].isnull()]['Region'].unique()"
   ]
  },
  {
   "cell_type": "code",
   "execution_count": 202,
   "id": "ca84eeab-7fe2-470e-bb2d-77f6d6a8e5b5",
   "metadata": {},
   "outputs": [
    {
     "data": {
      "text/plain": [
       "Region                         0\n",
       "WRI                            0\n",
       "Exposure                       0\n",
       "Vulnerability                  0\n",
       "Susceptibility                 0\n",
       "Lack of Coping Capabilities    0\n",
       "Lack of Adaptive Capacities    0\n",
       "Year                           0\n",
       "Exposure Category              0\n",
       "WRI Category                   0\n",
       "Vulnerability Category         0\n",
       "Susceptibility Category        0\n",
       "latitude                       0\n",
       "dtype: int64"
      ]
     },
     "execution_count": 202,
     "metadata": {},
     "output_type": "execute_result"
    }
   ],
   "source": [
    "df_lat.isnull().sum()"
   ]
  },
  {
   "cell_type": "markdown",
   "id": "2ff00019-9b23-40d0-8536-03c571d9efe4",
   "metadata": {},
   "source": [
    "All latitudes are accounted for. \n",
    "\n",
    "#### Latitude Regions\n",
    "\n",
    "Now I will create latitude regions. The zones will be based on the description in the following textbook: https://geo.libretexts.org/Bookshelves/Geography_(Physical)/The_Physical_Environment_(Ritter)/01%3A_Essentials_of_Geography/1.04%3A_Locational_Systems/1.4.02%3A_Geographical_Zones\n",
    "\n",
    "They are:  \n",
    "\n",
    "\r\n",
    "Equatorial: 10 N - 10 S\r\n",
    "\r\n",
    "Tropical: 10N - 25N and 10S - 25S\r\n",
    "\r\n",
    "Subtropical: 25N - 35N and 25S - 35S\r\n",
    "\r\n",
    "Midlatitude: 35N - 55N and 35S - 55S\r\n",
    "\r\n",
    "Subarctic: 55N - 60N\r\n",
    "\r\n",
    "Subantarctic: 55S - 60S\r\n",
    "\r\n",
    "Arctic: 60N - 75N\r\n",
    "\r\n",
    "Antarctic: 60S - 75S\r\n",
    "\r\n",
    "North Polar: 75N - 90N  \r\n",
    "\r\n",
    "South Polar: 75S - 90S\r\n",
    "\n"
   ]
  },
  {
   "cell_type": "code",
   "execution_count": 227,
   "id": "563f46b3-e95f-4941-95cb-b8f0185bbaef",
   "metadata": {},
   "outputs": [],
   "source": [
    "def map_latitude(lat):\n",
    "    if -10 <= lat <= 10:\n",
    "        return 'Equatorial'\n",
    "    elif (10 < lat <= 25) or (-25 <= lat < -10):\n",
    "        return 'Tropical'\n",
    "    elif (25 < lat <= 35) or (-35 <= lat < -25):\n",
    "        return 'Subtropical'\n",
    "    elif (35 < lat <= 55) or (-55 <= lat < -35):\n",
    "        return 'Midlatitude'\n",
    "    elif 55 < lat <= 60:\n",
    "        return 'Subarctic'\n",
    "    elif -60 <= lat < -55:\n",
    "        return 'Subantarctic'\n",
    "    elif 60 < lat <= 75:\n",
    "        return 'Arctic'\n",
    "    elif -75 <= lat < -60:\n",
    "        return 'Antarctic'\n",
    "    elif 75 < lat <= 90:\n",
    "        return 'North Polar'\n",
    "    elif -90 <= lat < -75:\n",
    "        return 'South Polar'\n",
    "    else:\n",
    "        return np.nan\n",
    "\n",
    "# Apply the function to create a new column 'zone' in the df_lat dataframe\n",
    "df_lat['zone'] = df_lat['latitude'].apply(map_latitude)"
   ]
  },
  {
   "cell_type": "code",
   "execution_count": 229,
   "id": "34a60c74-45ab-4d64-a101-031bc70a25f2",
   "metadata": {},
   "outputs": [
    {
     "data": {
      "text/plain": [
       "Region                         0\n",
       "WRI                            0\n",
       "Exposure                       0\n",
       "Vulnerability                  0\n",
       "Susceptibility                 0\n",
       "Lack of Coping Capabilities    0\n",
       "Lack of Adaptive Capacities    0\n",
       "Year                           0\n",
       "Exposure Category              0\n",
       "WRI Category                   0\n",
       "Vulnerability Category         0\n",
       "Susceptibility Category        0\n",
       "latitude                       0\n",
       "zone                           0\n",
       "dtype: int64"
      ]
     },
     "execution_count": 229,
     "metadata": {},
     "output_type": "execute_result"
    }
   ],
   "source": [
    "df_lat.isnull().sum()"
   ]
  },
  {
   "cell_type": "markdown",
   "id": "c6151848-58a3-4858-aa81-a45ca1d00682",
   "metadata": {},
   "source": [
    "No missing values."
   ]
  },
  {
   "cell_type": "code",
   "execution_count": 232,
   "id": "4edb8829-9257-414c-9514-f1d30f630edb",
   "metadata": {},
   "outputs": [
    {
     "data": {
      "text/plain": [
       "<bound method Series.count of 0          Tropical\n",
       "1          Tropical\n",
       "2          Tropical\n",
       "3        Equatorial\n",
       "4          Tropical\n",
       "           ...     \n",
       "1910       Tropical\n",
       "1911       Tropical\n",
       "1912       Tropical\n",
       "1913    Midlatitude\n",
       "1914    Subtropical\n",
       "Name: zone, Length: 1915, dtype: object>"
      ]
     },
     "execution_count": 232,
     "metadata": {},
     "output_type": "execute_result"
    }
   ],
   "source": [
    "df_lat['zone'].count"
   ]
  },
  {
   "cell_type": "markdown",
   "id": "65144a5d-988d-4228-950e-9a0ccf9c5e17",
   "metadata": {},
   "source": [
    "#### A short analysis"
   ]
  },
  {
   "cell_type": "code",
   "execution_count": 287,
   "id": "65f2d11b-7fe1-4c12-ae66-11ad7c0ac583",
   "metadata": {
    "scrolled": true
   },
   "outputs": [
    {
     "data": {
      "text/html": [
       "<div>\n",
       "<style scoped>\n",
       "    .dataframe tbody tr th:only-of-type {\n",
       "        vertical-align: middle;\n",
       "    }\n",
       "\n",
       "    .dataframe tbody tr th {\n",
       "        vertical-align: top;\n",
       "    }\n",
       "\n",
       "    .dataframe thead tr th {\n",
       "        text-align: left;\n",
       "    }\n",
       "\n",
       "    .dataframe thead tr:last-of-type th {\n",
       "        text-align: right;\n",
       "    }\n",
       "</style>\n",
       "<table border=\"1\" class=\"dataframe\">\n",
       "  <thead>\n",
       "    <tr>\n",
       "      <th></th>\n",
       "      <th colspan=\"3\" halign=\"left\">WRI</th>\n",
       "      <th colspan=\"3\" halign=\"left\">Vulnerability</th>\n",
       "      <th colspan=\"3\" halign=\"left\">Exposure</th>\n",
       "    </tr>\n",
       "    <tr>\n",
       "      <th></th>\n",
       "      <th>min</th>\n",
       "      <th>max</th>\n",
       "      <th>median</th>\n",
       "      <th>min</th>\n",
       "      <th>max</th>\n",
       "      <th>median</th>\n",
       "      <th>min</th>\n",
       "      <th>max</th>\n",
       "      <th>median</th>\n",
       "    </tr>\n",
       "    <tr>\n",
       "      <th>zone</th>\n",
       "      <th></th>\n",
       "      <th></th>\n",
       "      <th></th>\n",
       "      <th></th>\n",
       "      <th></th>\n",
       "      <th></th>\n",
       "      <th></th>\n",
       "      <th></th>\n",
       "      <th></th>\n",
       "    </tr>\n",
       "  </thead>\n",
       "  <tbody>\n",
       "    <tr>\n",
       "      <th>Arctic</th>\n",
       "      <td>1.52</td>\n",
       "      <td>3.85</td>\n",
       "      <td>2.240</td>\n",
       "      <td>22.06</td>\n",
       "      <td>41.05</td>\n",
       "      <td>26.980</td>\n",
       "      <td>5.67</td>\n",
       "      <td>10.84</td>\n",
       "      <td>8.34</td>\n",
       "    </tr>\n",
       "    <tr>\n",
       "      <th>Equatorial</th>\n",
       "      <td>1.69</td>\n",
       "      <td>31.16</td>\n",
       "      <td>8.110</td>\n",
       "      <td>26.98</td>\n",
       "      <td>76.47</td>\n",
       "      <td>59.835</td>\n",
       "      <td>3.05</td>\n",
       "      <td>58.17</td>\n",
       "      <td>14.60</td>\n",
       "    </tr>\n",
       "    <tr>\n",
       "      <th>Midlatitude</th>\n",
       "      <td>0.54</td>\n",
       "      <td>14.10</td>\n",
       "      <td>4.340</td>\n",
       "      <td>20.97</td>\n",
       "      <td>56.99</td>\n",
       "      <td>36.050</td>\n",
       "      <td>1.65</td>\n",
       "      <td>46.55</td>\n",
       "      <td>12.25</td>\n",
       "    </tr>\n",
       "    <tr>\n",
       "      <th>Subarctic</th>\n",
       "      <td>1.99</td>\n",
       "      <td>3.71</td>\n",
       "      <td>2.990</td>\n",
       "      <td>22.49</td>\n",
       "      <td>37.94</td>\n",
       "      <td>30.795</td>\n",
       "      <td>6.51</td>\n",
       "      <td>12.60</td>\n",
       "      <td>9.26</td>\n",
       "    </tr>\n",
       "    <tr>\n",
       "      <th>Subtropical</th>\n",
       "      <td>0.02</td>\n",
       "      <td>14.06</td>\n",
       "      <td>5.015</td>\n",
       "      <td>24.77</td>\n",
       "      <td>76.19</td>\n",
       "      <td>47.375</td>\n",
       "      <td>0.05</td>\n",
       "      <td>36.29</td>\n",
       "      <td>11.10</td>\n",
       "    </tr>\n",
       "    <tr>\n",
       "      <th>Tropical</th>\n",
       "      <td>0.70</td>\n",
       "      <td>56.71</td>\n",
       "      <td>9.140</td>\n",
       "      <td>29.97</td>\n",
       "      <td>75.86</td>\n",
       "      <td>54.920</td>\n",
       "      <td>1.62</td>\n",
       "      <td>99.88</td>\n",
       "      <td>14.89</td>\n",
       "    </tr>\n",
       "  </tbody>\n",
       "</table>\n",
       "</div>"
      ],
      "text/plain": [
       "              WRI               Vulnerability                Exposure         \\\n",
       "              min    max median           min    max  median      min    max   \n",
       "zone                                                                           \n",
       "Arctic       1.52   3.85  2.240         22.06  41.05  26.980     5.67  10.84   \n",
       "Equatorial   1.69  31.16  8.110         26.98  76.47  59.835     3.05  58.17   \n",
       "Midlatitude  0.54  14.10  4.340         20.97  56.99  36.050     1.65  46.55   \n",
       "Subarctic    1.99   3.71  2.990         22.49  37.94  30.795     6.51  12.60   \n",
       "Subtropical  0.02  14.06  5.015         24.77  76.19  47.375     0.05  36.29   \n",
       "Tropical     0.70  56.71  9.140         29.97  75.86  54.920     1.62  99.88   \n",
       "\n",
       "                    \n",
       "            median  \n",
       "zone                \n",
       "Arctic        8.34  \n",
       "Equatorial   14.60  \n",
       "Midlatitude  12.25  \n",
       "Subarctic     9.26  \n",
       "Subtropical  11.10  \n",
       "Tropical     14.89  "
      ]
     },
     "execution_count": 287,
     "metadata": {},
     "output_type": "execute_result"
    }
   ],
   "source": [
    "zone_stats = df_lat.groupby('zone').agg({\n",
    "    'WRI': ['min', 'max', 'median'],\n",
    "    'Vulnerability': ['min', 'max', 'median'],\n",
    "    'Exposure': ['min', 'max', 'median']\n",
    "})\n",
    "zone_stats"
   ]
  },
  {
   "cell_type": "markdown",
   "id": "887d6277-b00d-4878-9364-a9bb0f1ea073",
   "metadata": {},
   "source": [
    "As expected equatorial and tropical regions score the higest in the three variables."
   ]
  },
  {
   "cell_type": "code",
   "execution_count": 291,
   "id": "ad625594-93a4-4461-a03e-e2a6af95e087",
   "metadata": {},
   "outputs": [
    {
     "name": "stderr",
     "output_type": "stream",
     "text": [
      "C:\\Users\\isava\\AppData\\Local\\Temp\\ipykernel_18020\\1717609625.py:24: FutureWarning: \n",
      "\n",
      "Passing `palette` without assigning `hue` is deprecated and will be removed in v0.14.0. Assign the `x` variable to `hue` and set `legend=False` for the same effect.\n",
      "\n",
      "  sns.barplot(x='zone', y='WRI', data=wri_sorted, palette='viridis')\n"
     ]
    },
    {
     "data": {
      "image/png": "[encoded data removed]",
      "text/plain": [
       "<Figure size 1200x600 with 1 Axes>"
      ]
     },
     "metadata": {},
     "output_type": "display_data"
    },
    {
     "name": "stderr",
     "output_type": "stream",
     "text": [
      "C:\\Users\\isava\\AppData\\Local\\Temp\\ipykernel_18020\\1717609625.py:34: FutureWarning: \n",
      "\n",
      "Passing `palette` without assigning `hue` is deprecated and will be removed in v0.14.0. Assign the `x` variable to `hue` and set `legend=False` for the same effect.\n",
      "\n",
      "  sns.barplot(x='zone', y='Vulnerability', data=vulnerability_sorted, palette='plasma')\n"
     ]
    },
    {
     "data": {
      "image/png": "[encoded data removed]",
      "text/plain": [
       "<Figure size 1200x600 with 1 Axes>"
      ]
     },
     "metadata": {},
     "output_type": "display_data"
    },
    {
     "name": "stderr",
     "output_type": "stream",
     "text": [
      "C:\\Users\\isava\\AppData\\Local\\Temp\\ipykernel_18020\\1717609625.py:44: FutureWarning: \n",
      "\n",
      "Passing `palette` without assigning `hue` is deprecated and will be removed in v0.14.0. Assign the `x` variable to `hue` and set `legend=False` for the same effect.\n",
      "\n",
      "  sns.barplot(x='zone', y='Exposure', data=exposure_sorted, palette='cividis')\n"
     ]
    },
    {
     "data": {
      "image/png": "[encoded data removed]",
      "text/plain": [
       "<Figure size 1200x600 with 1 Axes>"
      ]
     },
     "metadata": {},
     "output_type": "display_data"
    }
   ],
   "source": [
    "import matplotlib.pyplot as plt\n",
    "import seaborn as sns\n",
    "\n",
    "# Extract just the median columns for plotting\n",
    "wri_median = zone_stats[('WRI', 'median')]\n",
    "vulnerability_median = zone_stats[('Vulnerability', 'median')]\n",
    "exposure_median = zone_stats[('Exposure', 'median')]\n",
    "\n",
    "# Create a new dataframe with just the medians\n",
    "medians_df = pd.DataFrame({\n",
    "    'zone': wri_median.index,\n",
    "    'WRI': wri_median.values,\n",
    "    'Vulnerability': vulnerability_median.values,\n",
    "    'Exposure': exposure_median.values\n",
    "})\n",
    "\n",
    "plt.style.use('seaborn-v0_8')\n",
    "wri_sorted = medians_df.sort_values('WRI', ascending=False)\n",
    "vulnerability_sorted = medians_df.sort_values('Vulnerability', ascending=False)\n",
    "exposure_sorted = medians_df.sort_values('Exposure', ascending=False)\n",
    "\n",
    "# median WRI values (sorted)\n",
    "plt.figure(figsize=(12, 6))\n",
    "sns.barplot(x='zone', y='WRI', data=wri_sorted, palette='viridis')\n",
    "plt.title('Median World Risk Index (WRI) by Climate Zone (Largest to Smallest)', fontsize=14)\n",
    "plt.xlabel('Climate Zone', fontsize=12)\n",
    "plt.ylabel('Median WRI', fontsize=12)\n",
    "plt.xticks(rotation=45)\n",
    "plt.tight_layout()\n",
    "plt.show()\n",
    "\n",
    "# median Vulnerability values (sorted)\n",
    "plt.figure(figsize=(12, 6))\n",
    "sns.barplot(x='zone', y='Vulnerability', data=vulnerability_sorted, palette='plasma')\n",
    "plt.title('Median Vulnerability by Climate Zone (Largest to Smallest)', fontsize=14)\n",
    "plt.xlabel('Climate Zone', fontsize=12)\n",
    "plt.ylabel('Median Vulnerability', fontsize=12)\n",
    "plt.xticks(rotation=45)\n",
    "plt.tight_layout()\n",
    "plt.show()\n",
    "\n",
    "# median Exposure values (sorted)\n",
    "plt.figure(figsize=(12, 6))\n",
    "sns.barplot(x='zone', y='Exposure', data=exposure_sorted, palette='cividis')\n",
    "plt.title('Median Exposure by Climate Zone (Largest to Smallest)', fontsize=14)\n",
    "plt.xlabel('Climate Zone', fontsize=12)\n",
    "plt.ylabel('Median Exposure', fontsize=12)\n",
    "plt.xticks(rotation=45)\n",
    "plt.tight_layout()\n",
    "plt.show()"
   ]
  },
  {
   "cell_type": "markdown",
   "id": "c8c4bc67-79d1-40b0-baa7-7955bf90dbf4",
   "metadata": {},
   "source": [
    "- The median WRI is highest in tropical regions with equatorial regions being the median second highest.\n",
    "- The median vulnerability is highest in equatorial regions with tropical regions being the median second highest.\n",
    "- The esxposure is highest in tropical regions with equatorial regions being the median second highest.\n",
    "- The artic scores the lowest for all three variables.\n",
    "- It appears that as land moves away from the equator the exposure scores reduce which is what I expected.\n"
   ]
  },
  {
   "cell_type": "markdown",
   "id": "f2357a76-32c1-4ea3-bbe3-5a47e5a28af2",
   "metadata": {},
   "source": [
    "# 04 Write Data"
   ]
  },
  {
   "cell_type": "code",
   "execution_count": 300,
   "id": "7e38b64b-4a33-48d7-8d2b-0610d02c3c8f",
   "metadata": {},
   "outputs": [],
   "source": [
    "df_lat.to_csv(os.path.join(path,'02 Data','CleanedData', 'world_risk_cleaned_lat.csv'), index = False)"
   ]
  }
 ],
 "metadata": {
  "kernelspec": {
   "display_name": "Python 3 (ipykernel)",
   "language": "python",
   "name": "python3"
  },
  "language_info": {
   "codemirror_mode": {
    "name": "ipython",
    "version": 3
   },
   "file_extension": ".py",
   "mimetype": "text/x-python",
   "name": "python",
   "nbconvert_exporter": "python",
   "pygments_lexer": "ipython3",
   "version": "3.12.4"
  }
 },
 "nbformat": 4,
 "nbformat_minor": 5
}
